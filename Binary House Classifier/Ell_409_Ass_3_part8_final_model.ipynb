{
 "cells": [
  {
   "cell_type": "code",
   "execution_count": 56,
   "metadata": {},
   "outputs": [],
   "source": [
    "import tensorflow as tf\n",
    "from tensorflow.keras.models import Sequential\n",
    "from tensorflow.keras.layers import Dense,Dropout\n",
    "from tensorflow.keras.callbacks import ModelCheckpoint,LearningRateScheduler,EarlyStopping\n",
    "from sklearn import preprocessing\n",
    "from sklearn.model_selection import train_test_split\n",
    "import numpy as np\n",
    "import pandas as pd\n",
    "import matplotlib.pyplot as plt\n",
    "from sklearn import metrics"
   ]
  },
  {
   "cell_type": "code",
   "execution_count": 42,
   "metadata": {},
   "outputs": [],
   "source": [
    "def preprocess(df):\n",
    "    data = df.values\n",
    "    X = data[:,0:10]\n",
    "    y = data[:,10]\n",
    "    #we have to scale the features to a common range\n",
    "    #we are using min-max scaler instead of standardscaler because min-max scaler preserves the distribution of the data\n",
    "    #Add the formula for min-max scaler in the report\n",
    "    X = preprocessing.MinMaxScaler().fit_transform(X)\n",
    "    return X,y"
   ]
  },
  {
   "cell_type": "code",
   "execution_count": 43,
   "metadata": {},
   "outputs": [],
   "source": [
    "def split(X,y):\n",
    "    X_train, temp_x, y_train, temp_y = train_test_split(X, y, test_size=0.3)\n",
    "    X_val, X_test, y_val, y_test = train_test_split(temp_x, temp_y, test_size=0.5)\n",
    "    return X_train,X_val,X_test,y_train,y_val,y_test"
   ]
  },
  {
   "cell_type": "code",
   "execution_count": 44,
   "metadata": {},
   "outputs": [],
   "source": [
    "#Two hidden layer model\n",
    "#n1 = number of neurons in first hidden layer\n",
    "#n2 = number of neurons in seconf hidden layer\n",
    "def nnetwork(n1 = 32,n2 = 32,n3 = 32,n4 = 32):\n",
    "    model = Sequential()\n",
    "    model.add(Dense(n1,activation = 'relu',input_shape = (10,))) #The weight matrix is initialised using the default initializer 'glorot_uniform'\n",
    "    model.add(Dense(n2,activation = 'relu',kernel_regularizer=tf.keras.regularizers.L2(0.01)))\n",
    "    model.add(Dense(n3,activation = 'relu',kernel_regularizer=tf.keras.regularizers.L2(0.01)))\n",
    "    model.add(Dense(n4,activation = 'relu',kernel_regularizer=tf.keras.regularizers.L2(0.01)))\n",
    "    model.add(Dense(1,activation = 'sigmoid'))\n",
    "    # model.summary()\n",
    "    return model    "
   ]
  },
  {
   "cell_type": "code",
   "execution_count": 45,
   "metadata": {},
   "outputs": [],
   "source": [
    "#This is for learning rate scheduler.\n",
    "#decay_rate is hyperparameter that we need to optimize\n",
    "#we can use different typer decays:\n",
    "# time based decay: lr = lr/(1 + decay_rate*epoch)\n",
    "# step decay: lr = lr0*drop^(floor(epoch/epoch_drop))\n",
    "#Alag alag use krke table bnani hai shayad :/\n",
    "#The following is exponential decay:\n",
    "def schedule(epoch,lr,decay_rate = 0.005):\n",
    "    if(epoch < 10):\n",
    "        return lr\n",
    "    # lr_new = lr*np.exp(-decay_rate*epoch)\n",
    "    lr_new = lr*np.exp(-decay_rate)\n",
    "    # lr_new = lr/(1 + decay_rate*epoch)\n",
    "    return lr_new"
   ]
  },
  {
   "cell_type": "code",
   "execution_count": 46,
   "metadata": {},
   "outputs": [],
   "source": [
    "def train(model,X_train,y_train,X_val,y_val,num_epochs = 500,batch_size = 32,lr_initial = 0.001,momentum = 0.5,patience_value = 7):\n",
    "    tf.keras.backend.clear_session()\n",
    "    callbacks = [EarlyStopping(monitor='val_acc', patience=patience_value),LearningRateScheduler(schedule)]\n",
    "    model.compile(loss='binary_crossentropy', optimizer=tf.keras.optimizers.SGD(learning_rate=lr_initial,momentum= momentum),metrics=['acc'])\n",
    "    model_history=model.fit(X_train, y_train, batch_size=batch_size, epochs=num_epochs, validation_data=(X_val, y_val),\n",
    "                        callbacks=callbacks)\n",
    "    return model,model_history"
   ]
  },
  {
   "cell_type": "code",
   "execution_count": 47,
   "metadata": {},
   "outputs": [],
   "source": [
    "df = pd.read_csv('housepricedata.csv')"
   ]
  },
  {
   "cell_type": "code",
   "execution_count": null,
   "metadata": {},
   "outputs": [],
   "source": [
    "np.random.seed(42)"
   ]
  },
  {
   "cell_type": "code",
   "execution_count": 49,
   "metadata": {},
   "outputs": [],
   "source": [
    "X,y = preprocess(df)"
   ]
  },
  {
   "cell_type": "code",
   "execution_count": 50,
   "metadata": {},
   "outputs": [],
   "source": [
    "X_train,X_val,X_test,y_train,y_val,y_test = split(X,y)"
   ]
  },
  {
   "cell_type": "code",
   "execution_count": 51,
   "metadata": {},
   "outputs": [
    {
     "name": "stdout",
     "output_type": "stream",
     "text": [
      "(1022, 10) (219, 10) (219, 10) (1022,) (219,) (219,)\n"
     ]
    }
   ],
   "source": [
    "print(X_train.shape, X_val.shape, X_test.shape, y_train.shape, y_val.shape, y_test.shape)"
   ]
  },
  {
   "cell_type": "code",
   "execution_count": 52,
   "metadata": {},
   "outputs": [
    {
     "name": "stdout",
     "output_type": "stream",
     "text": [
      "Epoch 1/500\n",
      "32/32 [==============================] - 3s 17ms/step - loss: 1.4386 - acc: 0.5166 - val_loss: 1.4236 - val_acc: 0.6347 - lr: 0.0100\n",
      "Epoch 2/500\n",
      "32/32 [==============================] - 0s 12ms/step - loss: 1.4143 - acc: 0.6145 - val_loss: 1.4013 - val_acc: 0.6712 - lr: 0.0100\n",
      "Epoch 3/500\n",
      "32/32 [==============================] - 0s 8ms/step - loss: 1.3924 - acc: 0.6448 - val_loss: 1.3797 - val_acc: 0.6895 - lr: 0.0100\n",
      "Epoch 4/500\n",
      "32/32 [==============================] - 0s 8ms/step - loss: 1.3715 - acc: 0.6575 - val_loss: 1.3593 - val_acc: 0.7078 - lr: 0.0100\n",
      "Epoch 5/500\n",
      "32/32 [==============================] - 0s 7ms/step - loss: 1.3514 - acc: 0.6761 - val_loss: 1.3396 - val_acc: 0.7123 - lr: 0.0100\n",
      "Epoch 6/500\n",
      "32/32 [==============================] - 0s 7ms/step - loss: 1.3319 - acc: 0.7016 - val_loss: 1.3201 - val_acc: 0.7306 - lr: 0.0100\n",
      "Epoch 7/500\n",
      "32/32 [==============================] - 0s 7ms/step - loss: 1.3128 - acc: 0.7133 - val_loss: 1.3008 - val_acc: 0.7854 - lr: 0.0100\n",
      "Epoch 8/500\n",
      "32/32 [==============================] - 0s 7ms/step - loss: 1.2933 - acc: 0.7603 - val_loss: 1.2812 - val_acc: 0.7945 - lr: 0.0100\n",
      "Epoch 9/500\n",
      "32/32 [==============================] - 0s 8ms/step - loss: 1.2740 - acc: 0.7818 - val_loss: 1.2618 - val_acc: 0.8219 - lr: 0.0100\n",
      "Epoch 10/500\n",
      "32/32 [==============================] - 0s 8ms/step - loss: 1.2548 - acc: 0.7945 - val_loss: 1.2424 - val_acc: 0.8311 - lr: 0.0100\n",
      "Epoch 11/500\n",
      "32/32 [==============================] - 0s 7ms/step - loss: 1.2355 - acc: 0.7975 - val_loss: 1.2227 - val_acc: 0.8311 - lr: 0.0100\n",
      "Epoch 12/500\n",
      "32/32 [==============================] - 0s 7ms/step - loss: 1.2159 - acc: 0.8033 - val_loss: 1.2024 - val_acc: 0.8402 - lr: 0.0099\n",
      "Epoch 13/500\n",
      "32/32 [==============================] - 0s 8ms/step - loss: 1.1956 - acc: 0.8072 - val_loss: 1.1816 - val_acc: 0.8402 - lr: 0.0099\n",
      "Epoch 14/500\n",
      "32/32 [==============================] - 0s 7ms/step - loss: 1.1751 - acc: 0.8072 - val_loss: 1.1602 - val_acc: 0.8402 - lr: 0.0098\n",
      "Epoch 15/500\n",
      "32/32 [==============================] - 0s 7ms/step - loss: 1.1537 - acc: 0.8023 - val_loss: 1.1380 - val_acc: 0.8447 - lr: 0.0098\n",
      "Epoch 16/500\n",
      "32/32 [==============================] - 0s 6ms/step - loss: 1.1318 - acc: 0.8033 - val_loss: 1.1147 - val_acc: 0.8447 - lr: 0.0097\n",
      "Epoch 17/500\n",
      "32/32 [==============================] - 0s 7ms/step - loss: 1.1092 - acc: 0.8072 - val_loss: 1.0907 - val_acc: 0.8447 - lr: 0.0097\n",
      "Epoch 18/500\n",
      "32/32 [==============================] - 0s 9ms/step - loss: 1.0848 - acc: 0.8053 - val_loss: 1.0647 - val_acc: 0.8447 - lr: 0.0096\n",
      "Epoch 19/500\n",
      "32/32 [==============================] - 0s 7ms/step - loss: 1.0589 - acc: 0.8102 - val_loss: 1.0371 - val_acc: 0.8447 - lr: 0.0096\n",
      "Epoch 20/500\n",
      "32/32 [==============================] - 0s 7ms/step - loss: 1.0314 - acc: 0.8141 - val_loss: 1.0087 - val_acc: 0.8493 - lr: 0.0095\n",
      "Epoch 21/500\n",
      "32/32 [==============================] - 0s 8ms/step - loss: 1.0034 - acc: 0.8112 - val_loss: 0.9777 - val_acc: 0.8447 - lr: 0.0095\n",
      "Epoch 22/500\n",
      "32/32 [==============================] - 0s 7ms/step - loss: 0.9740 - acc: 0.8141 - val_loss: 0.9488 - val_acc: 0.8539 - lr: 0.0094\n",
      "Epoch 23/500\n",
      "32/32 [==============================] - 0s 7ms/step - loss: 0.9443 - acc: 0.8180 - val_loss: 0.9164 - val_acc: 0.8402 - lr: 0.0094\n",
      "Epoch 24/500\n",
      "32/32 [==============================] - 0s 7ms/step - loss: 0.9157 - acc: 0.8190 - val_loss: 0.8867 - val_acc: 0.8539 - lr: 0.0093\n",
      "Epoch 25/500\n",
      "32/32 [==============================] - 0s 7ms/step - loss: 0.8881 - acc: 0.8190 - val_loss: 0.8594 - val_acc: 0.8721 - lr: 0.0093\n",
      "Epoch 26/500\n",
      "32/32 [==============================] - 0s 7ms/step - loss: 0.8622 - acc: 0.8278 - val_loss: 0.8324 - val_acc: 0.8767 - lr: 0.0092\n",
      "Epoch 27/500\n",
      "32/32 [==============================] - 0s 6ms/step - loss: 0.8380 - acc: 0.8327 - val_loss: 0.8067 - val_acc: 0.8767 - lr: 0.0092\n",
      "Epoch 28/500\n",
      "32/32 [==============================] - 0s 7ms/step - loss: 0.8160 - acc: 0.8327 - val_loss: 0.7855 - val_acc: 0.8813 - lr: 0.0091\n",
      "Epoch 29/500\n",
      "32/32 [==============================] - 0s 6ms/step - loss: 0.7963 - acc: 0.8395 - val_loss: 0.7651 - val_acc: 0.8767 - lr: 0.0091\n",
      "Epoch 30/500\n",
      "32/32 [==============================] - 0s 5ms/step - loss: 0.7788 - acc: 0.8483 - val_loss: 0.7481 - val_acc: 0.8813 - lr: 0.0090\n",
      "Epoch 31/500\n",
      "32/32 [==============================] - 0s 10ms/step - loss: 0.7641 - acc: 0.8454 - val_loss: 0.7336 - val_acc: 0.8904 - lr: 0.0090\n",
      "Epoch 32/500\n",
      "32/32 [==============================] - 0s 7ms/step - loss: 0.7477 - acc: 0.8493 - val_loss: 0.7164 - val_acc: 0.8813 - lr: 0.0090\n",
      "Epoch 33/500\n",
      "32/32 [==============================] - 0s 9ms/step - loss: 0.7344 - acc: 0.8523 - val_loss: 0.7028 - val_acc: 0.8858 - lr: 0.0089\n",
      "Epoch 34/500\n",
      "32/32 [==============================] - 0s 9ms/step - loss: 0.7244 - acc: 0.8581 - val_loss: 0.6914 - val_acc: 0.8950 - lr: 0.0089\n",
      "Epoch 35/500\n",
      "32/32 [==============================] - 0s 8ms/step - loss: 0.7109 - acc: 0.8620 - val_loss: 0.6827 - val_acc: 0.8813 - lr: 0.0088\n",
      "Epoch 36/500\n",
      "32/32 [==============================] - 0s 6ms/step - loss: 0.6995 - acc: 0.8630 - val_loss: 0.6677 - val_acc: 0.8950 - lr: 0.0088\n",
      "Epoch 37/500\n",
      "32/32 [==============================] - 0s 7ms/step - loss: 0.6884 - acc: 0.8659 - val_loss: 0.6567 - val_acc: 0.8904 - lr: 0.0087\n",
      "Epoch 38/500\n",
      "32/32 [==============================] - 0s 6ms/step - loss: 0.6812 - acc: 0.8699 - val_loss: 0.6466 - val_acc: 0.8858 - lr: 0.0087\n",
      "Epoch 39/500\n",
      "32/32 [==============================] - 0s 7ms/step - loss: 0.6701 - acc: 0.8650 - val_loss: 0.6403 - val_acc: 0.8813 - lr: 0.0087\n",
      "Epoch 40/500\n",
      "32/32 [==============================] - 0s 7ms/step - loss: 0.6612 - acc: 0.8679 - val_loss: 0.6322 - val_acc: 0.8813 - lr: 0.0086\n",
      "Epoch 41/500\n",
      "32/32 [==============================] - 0s 7ms/step - loss: 0.6522 - acc: 0.8708 - val_loss: 0.6168 - val_acc: 0.8950 - lr: 0.0086\n",
      "Epoch 42/500\n",
      "32/32 [==============================] - 0s 7ms/step - loss: 0.6437 - acc: 0.8689 - val_loss: 0.6094 - val_acc: 0.8950 - lr: 0.0085\n",
      "Epoch 43/500\n",
      "32/32 [==============================] - 0s 6ms/step - loss: 0.6351 - acc: 0.8738 - val_loss: 0.6086 - val_acc: 0.8767 - lr: 0.0085\n",
      "Epoch 44/500\n",
      "32/32 [==============================] - 0s 6ms/step - loss: 0.6254 - acc: 0.8777 - val_loss: 0.6069 - val_acc: 0.8767 - lr: 0.0084\n",
      "Epoch 45/500\n",
      "32/32 [==============================] - 0s 7ms/step - loss: 0.6226 - acc: 0.8679 - val_loss: 0.5855 - val_acc: 0.8995 - lr: 0.0084\n",
      "Epoch 46/500\n",
      "32/32 [==============================] - 0s 8ms/step - loss: 0.6135 - acc: 0.8659 - val_loss: 0.5883 - val_acc: 0.8767 - lr: 0.0084\n",
      "Epoch 47/500\n",
      "32/32 [==============================] - 0s 8ms/step - loss: 0.6052 - acc: 0.8787 - val_loss: 0.5729 - val_acc: 0.9041 - lr: 0.0083\n",
      "Epoch 48/500\n",
      "32/32 [==============================] - 0s 8ms/step - loss: 0.6039 - acc: 0.8806 - val_loss: 0.5649 - val_acc: 0.8995 - lr: 0.0083\n",
      "Epoch 49/500\n",
      "32/32 [==============================] - 0s 7ms/step - loss: 0.5921 - acc: 0.8738 - val_loss: 0.5626 - val_acc: 0.8904 - lr: 0.0082\n",
      "Epoch 50/500\n",
      "32/32 [==============================] - 0s 6ms/step - loss: 0.5856 - acc: 0.8806 - val_loss: 0.5535 - val_acc: 0.8950 - lr: 0.0082\n",
      "Epoch 51/500\n",
      "32/32 [==============================] - 0s 7ms/step - loss: 0.5801 - acc: 0.8806 - val_loss: 0.5494 - val_acc: 0.8858 - lr: 0.0081\n",
      "Epoch 52/500\n",
      "32/32 [==============================] - 0s 6ms/step - loss: 0.5769 - acc: 0.8767 - val_loss: 0.5448 - val_acc: 0.8904 - lr: 0.0081\n",
      "Epoch 53/500\n",
      "32/32 [==============================] - 0s 8ms/step - loss: 0.5696 - acc: 0.8767 - val_loss: 0.5359 - val_acc: 0.8904 - lr: 0.0081\n",
      "Epoch 54/500\n",
      "32/32 [==============================] - 0s 7ms/step - loss: 0.5640 - acc: 0.8728 - val_loss: 0.5278 - val_acc: 0.9087 - lr: 0.0080\n",
      "Epoch 55/500\n",
      "32/32 [==============================] - 0s 7ms/step - loss: 0.5605 - acc: 0.8787 - val_loss: 0.5312 - val_acc: 0.8858 - lr: 0.0080\n",
      "Epoch 56/500\n",
      "32/32 [==============================] - 0s 6ms/step - loss: 0.5525 - acc: 0.8855 - val_loss: 0.5251 - val_acc: 0.8858 - lr: 0.0079\n",
      "Epoch 57/500\n",
      "32/32 [==============================] - 0s 6ms/step - loss: 0.5483 - acc: 0.8796 - val_loss: 0.5220 - val_acc: 0.8858 - lr: 0.0079\n",
      "Epoch 58/500\n",
      "32/32 [==============================] - 0s 6ms/step - loss: 0.5432 - acc: 0.8787 - val_loss: 0.5070 - val_acc: 0.9087 - lr: 0.0079\n",
      "Epoch 59/500\n",
      "32/32 [==============================] - 0s 6ms/step - loss: 0.5369 - acc: 0.8836 - val_loss: 0.5058 - val_acc: 0.8995 - lr: 0.0078\n",
      "Epoch 60/500\n",
      "32/32 [==============================] - 0s 7ms/step - loss: 0.5334 - acc: 0.8787 - val_loss: 0.5085 - val_acc: 0.8858 - lr: 0.0078\n",
      "Epoch 61/500\n",
      "32/32 [==============================] - 0s 7ms/step - loss: 0.5284 - acc: 0.8836 - val_loss: 0.4994 - val_acc: 0.8858 - lr: 0.0077\n",
      "Epoch 62/500\n",
      "32/32 [==============================] - 0s 6ms/step - loss: 0.5260 - acc: 0.8845 - val_loss: 0.4950 - val_acc: 0.8858 - lr: 0.0077\n",
      "Epoch 63/500\n",
      "32/32 [==============================] - 0s 6ms/step - loss: 0.5199 - acc: 0.8787 - val_loss: 0.4932 - val_acc: 0.8858 - lr: 0.0077\n",
      "Epoch 64/500\n",
      "32/32 [==============================] - 0s 6ms/step - loss: 0.5181 - acc: 0.8796 - val_loss: 0.4850 - val_acc: 0.8950 - lr: 0.0076\n",
      "Epoch 65/500\n",
      "32/32 [==============================] - 0s 6ms/step - loss: 0.5127 - acc: 0.8806 - val_loss: 0.4760 - val_acc: 0.9041 - lr: 0.0076\n",
      "Epoch 66/500\n",
      "32/32 [==============================] - 0s 6ms/step - loss: 0.5080 - acc: 0.8767 - val_loss: 0.4763 - val_acc: 0.9132 - lr: 0.0076\n",
      "Epoch 67/500\n",
      "32/32 [==============================] - 0s 6ms/step - loss: 0.5061 - acc: 0.8767 - val_loss: 0.4694 - val_acc: 0.9041 - lr: 0.0075\n",
      "Epoch 68/500\n",
      "32/32 [==============================] - 0s 5ms/step - loss: 0.5001 - acc: 0.8875 - val_loss: 0.4646 - val_acc: 0.9132 - lr: 0.0075\n",
      "Epoch 69/500\n",
      "32/32 [==============================] - 0s 6ms/step - loss: 0.4969 - acc: 0.8816 - val_loss: 0.4636 - val_acc: 0.8995 - lr: 0.0074\n",
      "Epoch 70/500\n",
      "32/32 [==============================] - 0s 7ms/step - loss: 0.4922 - acc: 0.8836 - val_loss: 0.4632 - val_acc: 0.9041 - lr: 0.0074\n",
      "Epoch 71/500\n",
      "32/32 [==============================] - 0s 6ms/step - loss: 0.4908 - acc: 0.8777 - val_loss: 0.4543 - val_acc: 0.9087 - lr: 0.0074\n",
      "Epoch 72/500\n",
      "32/32 [==============================] - 0s 7ms/step - loss: 0.4845 - acc: 0.8816 - val_loss: 0.4550 - val_acc: 0.9087 - lr: 0.0073\n",
      "Epoch 73/500\n",
      "32/32 [==============================] - 0s 6ms/step - loss: 0.4853 - acc: 0.8865 - val_loss: 0.4541 - val_acc: 0.8904 - lr: 0.0073\n",
      "Epoch 74/500\n",
      "32/32 [==============================] - 0s 6ms/step - loss: 0.4805 - acc: 0.8855 - val_loss: 0.4451 - val_acc: 0.9087 - lr: 0.0073\n",
      "Epoch 75/500\n",
      "32/32 [==============================] - 0s 7ms/step - loss: 0.4774 - acc: 0.8836 - val_loss: 0.4444 - val_acc: 0.8995 - lr: 0.0072\n",
      "Epoch 76/500\n",
      "32/32 [==============================] - 0s 6ms/step - loss: 0.4758 - acc: 0.8855 - val_loss: 0.4402 - val_acc: 0.9041 - lr: 0.0072\n",
      "Epoch 77/500\n",
      "32/32 [==============================] - 0s 6ms/step - loss: 0.4689 - acc: 0.8875 - val_loss: 0.4423 - val_acc: 0.8904 - lr: 0.0072\n",
      "Epoch 78/500\n",
      "32/32 [==============================] - 0s 6ms/step - loss: 0.4651 - acc: 0.8933 - val_loss: 0.4332 - val_acc: 0.9087 - lr: 0.0071\n",
      "Epoch 79/500\n",
      "32/32 [==============================] - 0s 5ms/step - loss: 0.4620 - acc: 0.8816 - val_loss: 0.4289 - val_acc: 0.9132 - lr: 0.0071\n",
      "Epoch 80/500\n",
      "32/32 [==============================] - 0s 6ms/step - loss: 0.4615 - acc: 0.8865 - val_loss: 0.4264 - val_acc: 0.9132 - lr: 0.0070\n",
      "Epoch 81/500\n",
      "32/32 [==============================] - 0s 6ms/step - loss: 0.4630 - acc: 0.8836 - val_loss: 0.4263 - val_acc: 0.9041 - lr: 0.0070\n",
      "Epoch 82/500\n",
      "32/32 [==============================] - 0s 5ms/step - loss: 0.4559 - acc: 0.8826 - val_loss: 0.4257 - val_acc: 0.8995 - lr: 0.0070\n",
      "Epoch 83/500\n",
      "32/32 [==============================] - 0s 6ms/step - loss: 0.4548 - acc: 0.8865 - val_loss: 0.4210 - val_acc: 0.9087 - lr: 0.0069\n",
      "Epoch 84/500\n",
      "32/32 [==============================] - 0s 5ms/step - loss: 0.4553 - acc: 0.8767 - val_loss: 0.4158 - val_acc: 0.9132 - lr: 0.0069\n",
      "Epoch 85/500\n",
      "32/32 [==============================] - 0s 7ms/step - loss: 0.4497 - acc: 0.8865 - val_loss: 0.4137 - val_acc: 0.9041 - lr: 0.0069\n",
      "Epoch 86/500\n",
      "32/32 [==============================] - 0s 6ms/step - loss: 0.4473 - acc: 0.8875 - val_loss: 0.4152 - val_acc: 0.8995 - lr: 0.0068\n",
      "Epoch 87/500\n",
      "32/32 [==============================] - 0s 6ms/step - loss: 0.4453 - acc: 0.8865 - val_loss: 0.4088 - val_acc: 0.9132 - lr: 0.0068\n",
      "Epoch 88/500\n",
      "32/32 [==============================] - 0s 6ms/step - loss: 0.4413 - acc: 0.8904 - val_loss: 0.4063 - val_acc: 0.9132 - lr: 0.0068\n",
      "Epoch 89/500\n",
      "32/32 [==============================] - 0s 5ms/step - loss: 0.4410 - acc: 0.8855 - val_loss: 0.4048 - val_acc: 0.9041 - lr: 0.0067\n",
      "Epoch 90/500\n",
      "32/32 [==============================] - 0s 6ms/step - loss: 0.4411 - acc: 0.8836 - val_loss: 0.4108 - val_acc: 0.8950 - lr: 0.0067\n",
      "Epoch 91/500\n",
      "32/32 [==============================] - 0s 7ms/step - loss: 0.4363 - acc: 0.8826 - val_loss: 0.4011 - val_acc: 0.9178 - lr: 0.0067\n",
      "Epoch 92/500\n",
      "32/32 [==============================] - 0s 6ms/step - loss: 0.4346 - acc: 0.8875 - val_loss: 0.3975 - val_acc: 0.9132 - lr: 0.0066\n",
      "Epoch 93/500\n",
      "32/32 [==============================] - 0s 6ms/step - loss: 0.4334 - acc: 0.8875 - val_loss: 0.4005 - val_acc: 0.8995 - lr: 0.0066\n",
      "Epoch 94/500\n",
      "32/32 [==============================] - 0s 6ms/step - loss: 0.4316 - acc: 0.8875 - val_loss: 0.3937 - val_acc: 0.9132 - lr: 0.0066\n",
      "Epoch 95/500\n",
      "32/32 [==============================] - 0s 6ms/step - loss: 0.4274 - acc: 0.8885 - val_loss: 0.3923 - val_acc: 0.9178 - lr: 0.0065\n",
      "Epoch 96/500\n",
      "32/32 [==============================] - 0s 6ms/step - loss: 0.4253 - acc: 0.8885 - val_loss: 0.3898 - val_acc: 0.9132 - lr: 0.0065\n",
      "Epoch 97/500\n",
      "32/32 [==============================] - 0s 6ms/step - loss: 0.4238 - acc: 0.8845 - val_loss: 0.3959 - val_acc: 0.8995 - lr: 0.0065\n",
      "Epoch 98/500\n",
      "32/32 [==============================] - 0s 7ms/step - loss: 0.4220 - acc: 0.8826 - val_loss: 0.3959 - val_acc: 0.8995 - lr: 0.0064\n",
      "Epoch 99/500\n",
      "32/32 [==============================] - 0s 7ms/step - loss: 0.4201 - acc: 0.8875 - val_loss: 0.3852 - val_acc: 0.9041 - lr: 0.0064\n",
      "Epoch 100/500\n",
      "32/32 [==============================] - 0s 9ms/step - loss: 0.4181 - acc: 0.8865 - val_loss: 0.3831 - val_acc: 0.9178 - lr: 0.0064\n",
      "Epoch 101/500\n",
      "32/32 [==============================] - 0s 10ms/step - loss: 0.4189 - acc: 0.8894 - val_loss: 0.3807 - val_acc: 0.9132 - lr: 0.0063\n",
      "Epoch 102/500\n",
      "32/32 [==============================] - 0s 7ms/step - loss: 0.4156 - acc: 0.8865 - val_loss: 0.3792 - val_acc: 0.9132 - lr: 0.0063\n",
      "Epoch 103/500\n",
      "32/32 [==============================] - 0s 9ms/step - loss: 0.4115 - acc: 0.8904 - val_loss: 0.3775 - val_acc: 0.9132 - lr: 0.0063\n",
      "Epoch 104/500\n",
      "32/32 [==============================] - 0s 9ms/step - loss: 0.4138 - acc: 0.8933 - val_loss: 0.3815 - val_acc: 0.9041 - lr: 0.0063\n",
      "Epoch 105/500\n",
      "32/32 [==============================] - 0s 7ms/step - loss: 0.4127 - acc: 0.8796 - val_loss: 0.3760 - val_acc: 0.9178 - lr: 0.0062\n",
      "Epoch 106/500\n",
      "32/32 [==============================] - 0s 6ms/step - loss: 0.4092 - acc: 0.8875 - val_loss: 0.3769 - val_acc: 0.9041 - lr: 0.0062\n",
      "Epoch 107/500\n",
      "32/32 [==============================] - 0s 7ms/step - loss: 0.4105 - acc: 0.8826 - val_loss: 0.3773 - val_acc: 0.9041 - lr: 0.0062\n",
      "Epoch 108/500\n",
      "32/32 [==============================] - 0s 7ms/step - loss: 0.4072 - acc: 0.8875 - val_loss: 0.3701 - val_acc: 0.9087 - lr: 0.0061\n",
      "Epoch 109/500\n",
      "32/32 [==============================] - 0s 8ms/step - loss: 0.4058 - acc: 0.8836 - val_loss: 0.3692 - val_acc: 0.9178 - lr: 0.0061\n",
      "Epoch 110/500\n",
      "32/32 [==============================] - 0s 6ms/step - loss: 0.4041 - acc: 0.8914 - val_loss: 0.3667 - val_acc: 0.9132 - lr: 0.0061\n",
      "Epoch 111/500\n",
      "32/32 [==============================] - 0s 6ms/step - loss: 0.4026 - acc: 0.8845 - val_loss: 0.3657 - val_acc: 0.9087 - lr: 0.0060\n",
      "Epoch 112/500\n",
      "32/32 [==============================] - 0s 7ms/step - loss: 0.4009 - acc: 0.8855 - val_loss: 0.3655 - val_acc: 0.9178 - lr: 0.0060\n",
      "Epoch 113/500\n",
      "32/32 [==============================] - 0s 6ms/step - loss: 0.3992 - acc: 0.8845 - val_loss: 0.3668 - val_acc: 0.9041 - lr: 0.0060\n",
      "Epoch 114/500\n",
      "32/32 [==============================] - 0s 6ms/step - loss: 0.3959 - acc: 0.8904 - val_loss: 0.3750 - val_acc: 0.9041 - lr: 0.0059\n",
      "Epoch 115/500\n",
      "32/32 [==============================] - 0s 6ms/step - loss: 0.3996 - acc: 0.8806 - val_loss: 0.3635 - val_acc: 0.9132 - lr: 0.0059\n",
      "Epoch 116/500\n",
      "32/32 [==============================] - 0s 6ms/step - loss: 0.3965 - acc: 0.8855 - val_loss: 0.3595 - val_acc: 0.9178 - lr: 0.0059\n"
     ]
    }
   ],
   "source": [
    "#Always run the following two line together\n",
    "model = nnetwork(16,32,32,16) \n",
    "model,model_hist = train(model,X_train,y_train,X_val,y_val,num_epochs = 500,batch_size = 32,lr_initial = 0.01,momentum = 0.5,patience_value = 25)"
   ]
  },
  {
   "cell_type": "code",
   "execution_count": 53,
   "metadata": {},
   "outputs": [
    {
     "data": {
      "image/png": "[encoded data removed]",
      "text/plain": [
       "<Figure size 432x288 with 1 Axes>"
      ]
     },
     "metadata": {
      "needs_background": "light"
     },
     "output_type": "display_data"
    }
   ],
   "source": [
    "plt.plot(model_hist.history['loss'])\n",
    "plt.plot(model_hist.history['val_loss'])\n",
    "plt.title('Model loss')\n",
    "plt.ylabel('Loss')\n",
    "plt.xlabel('Epoch')\n",
    "plt.legend(['Train', 'Val'], loc='upper right')\n",
    "plt.savefig('part8_loss_vs_epochs.png')\n",
    "# plt.show()"
   ]
  },
  {
   "cell_type": "code",
   "execution_count": 54,
   "metadata": {},
   "outputs": [
    {
     "data": {
      "image/png": "[encoded data removed]",
      "text/plain": [
       "<Figure size 432x288 with 1 Axes>"
      ]
     },
     "metadata": {
      "needs_background": "light"
     },
     "output_type": "display_data"
    }
   ],
   "source": [
    "plt.plot(model_hist.history['acc'])\n",
    "plt.plot(model_hist.history['val_acc'])\n",
    "plt.title('Model accuracy')\n",
    "plt.ylabel('Accuracy')\n",
    "plt.xlabel('Epoch')\n",
    "plt.legend(['Train', 'Val'], loc='lower right')\n",
    "plt.savefig('part6_16_32_32_16_acc_vs_epochs.png')\n",
    "# plt.show()"
   ]
  },
  {
   "cell_type": "code",
   "execution_count": 55,
   "metadata": {},
   "outputs": [
    {
     "name": "stdout",
     "output_type": "stream",
     "text": [
      "7/7 [==============================] - 0s 7ms/step - loss: 0.3276 - acc: 0.9132\n"
     ]
    },
    {
     "data": {
      "text/plain": [
       "0.913241982460022"
      ]
     },
     "execution_count": 55,
     "metadata": {},
     "output_type": "execute_result"
    }
   ],
   "source": [
    "model.evaluate(X_test,y_test)[1]"
   ]
  },
  {
   "cell_type": "code",
   "execution_count": 61,
   "metadata": {},
   "outputs": [
    {
     "name": "stdout",
     "output_type": "stream",
     "text": [
      "[1 0 1 0 1 0 1 1 0 1 0 0 0 1 0 0 0 1 0 1 0 0 0 1 0 1 0 1 1 1 0 0 1 1 1 1 0\n",
      " 1 1 1 1 0 0 1 0 1 0 1 0 0 1 0 0 0 0 0 1 1 1 0 0 1 1 0 1 0 0 1 0 0 1 1 0 1\n",
      " 1 0 1 1 1 0 1 0 1 1 0 1 1 0 0 1 1 0 0 1 1 1 0 0 1 1 0 1 0 0 0 1 0 0 0 1 1\n",
      " 0 0 0 1 0 1 1 0 0 1 1 1 0 1 1 0 0 0 0 0 1 0 0 1 0 0 0 1 1 1 0 0 0 0 0 0 0\n",
      " 1 0 0 0 1 0 1 1 1 1 1 1 0 0 0 0 0 0 0 1 1 1 1 1 0 0 0 1 0 0 0 0 0 1 0 1 0\n",
      " 0 1 1 1 0 0 1 1 1 0 1 1 1 1 1 0 0 1 1 1 0 0 1 0 1 0 0 0 0 0 0 1 1 0]\n"
     ]
    }
   ],
   "source": [
    "predictions = np.array([int(i>= 0.5) for i in model.predict(X_test)])"
   ]
  },
  {
   "cell_type": "code",
   "execution_count": 63,
   "metadata": {},
   "outputs": [
    {
     "data": {
      "image/png": "[encoded data removed]",
      "text/plain": [
       "<Figure size 432x288 with 2 Axes>"
      ]
     },
     "metadata": {
      "needs_background": "light"
     },
     "output_type": "display_data"
    }
   ],
   "source": [
    "actual = y_test\n",
    "confusion_matrix = metrics.confusion_matrix(actual, predictions)\n",
    "\n",
    "cm_display = metrics.ConfusionMatrixDisplay(confusion_matrix = confusion_matrix, display_labels = [False, True])\n",
    "\n",
    "cm_display.plot()\n",
    "plt.savefig('Confusion_matrix.png')"
   ]
  }
 ],
 "metadata": {
  "kernelspec": {
   "display_name": "Python 3.9.0 64-bit",
   "language": "python",
   "name": "python3"
  },
  "language_info": {
   "codemirror_mode": {
    "name": "ipython",
    "version": 3
   },
   "file_extension": ".py",
   "mimetype": "text/x-python",
   "name": "python",
   "nbconvert_exporter": "python",
   "pygments_lexer": "ipython3",
   "version": "3.9.0"
  },
  "orig_nbformat": 4,
  "vscode": {
   "interpreter": {
    "hash": "8f8cf99212f81ad0c4765861267244807ee1c18364846cdce387b28994a977ba"
   }
  }
 },
 "nbformat": 4,
 "nbformat_minor": 2
}
