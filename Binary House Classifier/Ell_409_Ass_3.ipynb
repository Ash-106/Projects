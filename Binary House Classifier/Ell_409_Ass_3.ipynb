{
 "cells": [
  {
   "cell_type": "code",
   "execution_count": 16,
   "metadata": {},
   "outputs": [],
   "source": [
    "import tensorflow as tf\n",
    "from tensorflow.keras.models import Sequential\n",
    "from tensorflow.keras.layers import Dense\n",
    "from tensorflow.keras.callbacks import ModelCheckpoint,LearningRateScheduler,EarlyStopping\n",
    "from sklearn import preprocessing\n",
    "from sklearn.model_selection import train_test_split\n",
    "import numpy as np\n",
    "import pandas as pd\n",
    "import matplotlib.pyplot as plt"
   ]
  },
  {
   "cell_type": "code",
   "execution_count": 4,
   "metadata": {},
   "outputs": [],
   "source": [
    "def preprocess(df):\n",
    "    data = df.values\n",
    "    X = data[:,0:10]\n",
    "    y = data[:,10]\n",
    "    #we have to scale the features to a common range\n",
    "    #we are using min-max scaler instead of standardscaler because min-max scaler preserves the distribution of the data\n",
    "    #Add the formula for min-max scaler in the report\n",
    "    X = preprocessing.MinMaxScaler().fit_transform(X)\n",
    "    return X,y"
   ]
  },
  {
   "cell_type": "code",
   "execution_count": 14,
   "metadata": {},
   "outputs": [],
   "source": [
    "def split(X,y):\n",
    "    X_train, temp_x, y_train, temp_y = train_test_split(X, y, test_size=0.3)\n",
    "    X_val, X_test, y_val, y_test = train_test_split(temp_x, temp_y, test_size=0.5)\n",
    "    return X_train,X_val,X_test,y_train,y_val,y_test"
   ]
  },
  {
   "cell_type": "code",
   "execution_count": 50,
   "metadata": {},
   "outputs": [],
   "source": [
    "#Two hidden layer model\n",
    "#n1 = number of neurons in first hidden layer\n",
    "#n2 = number of neurons in seconf hidden layer\n",
    "def nnetwork(n1,n2):\n",
    "    model = Sequential()\n",
    "    model.add(Dense(n1,activation = 'relu',input_shape = (10,))) #The weight matrix is initialised using the default initializer 'glorot_uniform'\n",
    "    model.add(Dense(n2,activation = 'relu'))\n",
    "    model.add(Dense(1,activation = 'sigmoid'))\n",
    "    # model.summary()\n",
    "    return model    "
   ]
  },
  {
   "cell_type": "code",
   "execution_count": 54,
   "metadata": {},
   "outputs": [],
   "source": [
    "#This is for learning rate scheduler.\n",
    "#decay_rate is hyperparameter that we need to optimize\n",
    "#we can use different typer decays:\n",
    "# time based decay: lr = lr/(1 + decay_rate*epoch)\n",
    "# step decay: lr = lr0*drop^(floor(epoch/epoch_drop))\n",
    "#The following is exponential decay:\n",
    "def schedule(epoch,lr,decay_rate = 0.001):\n",
    "    if(epoch < 10):\n",
    "        return lr\n",
    "    # lr_new = lr*np.exp(-decay_rate*epoch)\n",
    "    lr_new = lr*np.exp(-decay_rate)\n",
    "    return lr_new"
   ]
  },
  {
   "cell_type": "code",
   "execution_count": 55,
   "metadata": {},
   "outputs": [],
   "source": [
    "def train(model,X_train,y_train,X_val,y_val,num_epochs = 500,batch_size = 32,lr_initial = 0.001,momentum = 0.5,patience_value = 7):\n",
    "    tf.keras.backend.clear_session()\n",
    "    callbacks = [EarlyStopping(monitor='val_acc', patience=patience_value),LearningRateScheduler(schedule)]\n",
    "    model.compile(loss='binary_crossentropy', optimizer=tf.keras.optimizers.SGD(learning_rate=lr_initial,momentum= momentum),metrics=['acc'])\n",
    "    model_history=model.fit(X_train, y_train, batch_size=batch_size, epochs=num_epochs, validation_data=(X_val, y_val),\n",
    "                        callbacks=callbacks)\n",
    "    return model,model_history"
   ]
  },
  {
   "cell_type": "code",
   "execution_count": 11,
   "metadata": {},
   "outputs": [],
   "source": [
    "df = pd.read_csv('housepricedata.csv')"
   ]
  },
  {
   "cell_type": "code",
   "execution_count": 12,
   "metadata": {},
   "outputs": [],
   "source": [
    "X,y = preprocess(df)"
   ]
  },
  {
   "cell_type": "code",
   "execution_count": 15,
   "metadata": {},
   "outputs": [],
   "source": [
    "X_train,X_val,X_test,y_train,y_val,y_test = split(X,y)"
   ]
  },
  {
   "cell_type": "code",
   "execution_count": 17,
   "metadata": {},
   "outputs": [
    {
     "name": "stdout",
     "output_type": "stream",
     "text": [
      "(1022, 10) (219, 10) (219, 10) (1022,) (219,) (219,)\n"
     ]
    }
   ],
   "source": [
    "print(X_train.shape, X_val.shape, X_test.shape, y_train.shape, y_val.shape, y_test.shape)"
   ]
  },
  {
   "cell_type": "code",
   "execution_count": 57,
   "metadata": {},
   "outputs": [
    {
     "name": "stdout",
     "output_type": "stream",
     "text": [
      "Epoch 1/500\n",
      "32/32 [==============================] - 1s 10ms/step - loss: 0.6850 - acc: 0.6703 - val_loss: 0.6790 - val_acc: 0.7123 - lr: 0.0010\n",
      "Epoch 2/500\n",
      "32/32 [==============================] - ETA: 0s - loss: 0.6831 - acc: 0.638 - 0s 6ms/step - loss: 0.6824 - acc: 0.6487 - val_loss: 0.6753 - val_acc: 0.7123 - lr: 0.0010\n",
      "Epoch 3/500\n",
      "32/32 [==============================] - 0s 6ms/step - loss: 0.6797 - acc: 0.6517 - val_loss: 0.6718 - val_acc: 0.7169 - lr: 0.0010\n",
      "Epoch 4/500\n",
      "32/32 [==============================] - 0s 6ms/step - loss: 0.6769 - acc: 0.6614 - val_loss: 0.6680 - val_acc: 0.7123 - lr: 0.0010\n",
      "Epoch 5/500\n",
      "32/32 [==============================] - 0s 6ms/step - loss: 0.6742 - acc: 0.6399 - val_loss: 0.6645 - val_acc: 0.7306 - lr: 0.0010\n",
      "Epoch 6/500\n",
      "32/32 [==============================] - 0s 6ms/step - loss: 0.6713 - acc: 0.6663 - val_loss: 0.6612 - val_acc: 0.7580 - lr: 0.0010\n",
      "Epoch 7/500\n",
      "32/32 [==============================] - 0s 6ms/step - loss: 0.6685 - acc: 0.6898 - val_loss: 0.6577 - val_acc: 0.7626 - lr: 0.0010\n",
      "Epoch 8/500\n",
      "32/32 [==============================] - 0s 6ms/step - loss: 0.6656 - acc: 0.7016 - val_loss: 0.6544 - val_acc: 0.7808 - lr: 0.0010\n",
      "Epoch 9/500\n",
      "32/32 [==============================] - 0s 6ms/step - loss: 0.6626 - acc: 0.7123 - val_loss: 0.6508 - val_acc: 0.7854 - lr: 0.0010\n",
      "Epoch 10/500\n",
      "32/32 [==============================] - 0s 6ms/step - loss: 0.6598 - acc: 0.7182 - val_loss: 0.6477 - val_acc: 0.8037 - lr: 0.0010\n",
      "Epoch 11/500\n",
      "32/32 [==============================] - 0s 7ms/step - loss: 0.6569 - acc: 0.7250 - val_loss: 0.6444 - val_acc: 0.8128 - lr: 9.9900e-04\n",
      "Epoch 12/500\n",
      "32/32 [==============================] - 0s 7ms/step - loss: 0.6540 - acc: 0.7339 - val_loss: 0.6413 - val_acc: 0.8082 - lr: 9.9800e-04\n",
      "Epoch 13/500\n",
      "32/32 [==============================] - 0s 9ms/step - loss: 0.6514 - acc: 0.7417 - val_loss: 0.6383 - val_acc: 0.8128 - lr: 9.9700e-04\n",
      "Epoch 14/500\n",
      "32/32 [==============================] - 0s 9ms/step - loss: 0.6486 - acc: 0.7593 - val_loss: 0.6353 - val_acc: 0.8174 - lr: 9.9601e-04\n",
      "Epoch 15/500\n",
      "32/32 [==============================] - 0s 8ms/step - loss: 0.6460 - acc: 0.7740 - val_loss: 0.6324 - val_acc: 0.8174 - lr: 9.9501e-04\n",
      "Epoch 16/500\n",
      "32/32 [==============================] - 0s 8ms/step - loss: 0.6433 - acc: 0.7750 - val_loss: 0.6292 - val_acc: 0.8174 - lr: 9.9402e-04\n",
      "Epoch 17/500\n",
      "32/32 [==============================] - 0s 8ms/step - loss: 0.6407 - acc: 0.7740 - val_loss: 0.6263 - val_acc: 0.8265 - lr: 9.9302e-04\n",
      "Epoch 18/500\n",
      "32/32 [==============================] - 0s 6ms/step - loss: 0.6380 - acc: 0.7818 - val_loss: 0.6234 - val_acc: 0.8402 - lr: 9.9203e-04\n",
      "Epoch 19/500\n",
      "32/32 [==============================] - 0s 6ms/step - loss: 0.6354 - acc: 0.7818 - val_loss: 0.6205 - val_acc: 0.8356 - lr: 9.9104e-04\n",
      "Epoch 20/500\n",
      "32/32 [==============================] - 0s 9ms/step - loss: 0.6327 - acc: 0.7847 - val_loss: 0.6174 - val_acc: 0.8356 - lr: 9.9005e-04\n",
      "Epoch 21/500\n",
      "32/32 [==============================] - 0s 8ms/step - loss: 0.6298 - acc: 0.7935 - val_loss: 0.6144 - val_acc: 0.8356 - lr: 9.8906e-04\n",
      "Epoch 22/500\n",
      "32/32 [==============================] - 0s 7ms/step - loss: 0.6270 - acc: 0.7945 - val_loss: 0.6111 - val_acc: 0.8356 - lr: 9.8807e-04\n",
      "Epoch 23/500\n",
      "32/32 [==============================] - 0s 7ms/step - loss: 0.6241 - acc: 0.7994 - val_loss: 0.6080 - val_acc: 0.8356 - lr: 9.8708e-04\n",
      "Epoch 24/500\n",
      "32/32 [==============================] - 0s 6ms/step - loss: 0.6212 - acc: 0.7935 - val_loss: 0.6043 - val_acc: 0.8356 - lr: 9.8610e-04\n",
      "Epoch 25/500\n",
      "32/32 [==============================] - 0s 6ms/step - loss: 0.6181 - acc: 0.8014 - val_loss: 0.6011 - val_acc: 0.8356 - lr: 9.8511e-04\n",
      "Epoch 26/500\n",
      "32/32 [==============================] - 0s 7ms/step - loss: 0.6150 - acc: 0.8063 - val_loss: 0.5981 - val_acc: 0.8447 - lr: 9.8413e-04\n",
      "Epoch 27/500\n",
      "32/32 [==============================] - 0s 6ms/step - loss: 0.6119 - acc: 0.8082 - val_loss: 0.5942 - val_acc: 0.8447 - lr: 9.8314e-04\n",
      "Epoch 28/500\n",
      "32/32 [==============================] - 0s 6ms/step - loss: 0.6087 - acc: 0.8092 - val_loss: 0.5909 - val_acc: 0.8447 - lr: 9.8216e-04\n",
      "Epoch 29/500\n",
      "32/32 [==============================] - 0s 6ms/step - loss: 0.6054 - acc: 0.8131 - val_loss: 0.5874 - val_acc: 0.8447 - lr: 9.8118e-04\n",
      "Epoch 30/500\n",
      "32/32 [==============================] - 0s 5ms/step - loss: 0.6021 - acc: 0.8131 - val_loss: 0.5834 - val_acc: 0.8402 - lr: 9.8020e-04\n",
      "Epoch 31/500\n",
      "32/32 [==============================] - 0s 5ms/step - loss: 0.5986 - acc: 0.8160 - val_loss: 0.5799 - val_acc: 0.8493 - lr: 9.7922e-04\n",
      "Epoch 32/500\n",
      "32/32 [==============================] - 0s 5ms/step - loss: 0.5954 - acc: 0.8229 - val_loss: 0.5765 - val_acc: 0.8539 - lr: 9.7824e-04\n",
      "Epoch 33/500\n",
      "32/32 [==============================] - 0s 5ms/step - loss: 0.5916 - acc: 0.8258 - val_loss: 0.5722 - val_acc: 0.8539 - lr: 9.7726e-04\n",
      "Epoch 34/500\n",
      "32/32 [==============================] - 0s 5ms/step - loss: 0.5880 - acc: 0.8249 - val_loss: 0.5680 - val_acc: 0.8539 - lr: 9.7629e-04\n",
      "Epoch 35/500\n",
      "32/32 [==============================] - 0s 5ms/step - loss: 0.5843 - acc: 0.8317 - val_loss: 0.5642 - val_acc: 0.8539 - lr: 9.7531e-04\n",
      "Epoch 36/500\n",
      "32/32 [==============================] - 0s 5ms/step - loss: 0.5805 - acc: 0.8317 - val_loss: 0.5596 - val_acc: 0.8539 - lr: 9.7434e-04\n",
      "Epoch 37/500\n",
      "32/32 [==============================] - 0s 5ms/step - loss: 0.5766 - acc: 0.8376 - val_loss: 0.5559 - val_acc: 0.8539 - lr: 9.7336e-04\n",
      "Epoch 38/500\n",
      "32/32 [==============================] - 0s 5ms/step - loss: 0.5728 - acc: 0.8434 - val_loss: 0.5519 - val_acc: 0.8539 - lr: 9.7239e-04\n",
      "Epoch 39/500\n",
      "32/32 [==============================] - 0s 6ms/step - loss: 0.5687 - acc: 0.8444 - val_loss: 0.5472 - val_acc: 0.8539 - lr: 9.7142e-04\n",
      "Epoch 40/500\n",
      "32/32 [==============================] - 0s 6ms/step - loss: 0.5648 - acc: 0.8434 - val_loss: 0.5432 - val_acc: 0.8630 - lr: 9.7045e-04\n",
      "Epoch 41/500\n",
      "32/32 [==============================] - 0s 6ms/step - loss: 0.5607 - acc: 0.8454 - val_loss: 0.5392 - val_acc: 0.8721 - lr: 9.6948e-04\n",
      "Epoch 42/500\n",
      "32/32 [==============================] - 0s 5ms/step - loss: 0.5564 - acc: 0.8474 - val_loss: 0.5343 - val_acc: 0.8721 - lr: 9.6851e-04\n",
      "Epoch 43/500\n",
      "32/32 [==============================] - 0s 5ms/step - loss: 0.5522 - acc: 0.8483 - val_loss: 0.5294 - val_acc: 0.8721 - lr: 9.6754e-04\n",
      "Epoch 44/500\n",
      "32/32 [==============================] - 0s 5ms/step - loss: 0.5479 - acc: 0.8493 - val_loss: 0.5251 - val_acc: 0.8767 - lr: 9.6657e-04\n",
      "Epoch 45/500\n",
      "32/32 [==============================] - 0s 5ms/step - loss: 0.5437 - acc: 0.8493 - val_loss: 0.5207 - val_acc: 0.8813 - lr: 9.6561e-04\n",
      "Epoch 46/500\n",
      "32/32 [==============================] - 0s 5ms/step - loss: 0.5393 - acc: 0.8503 - val_loss: 0.5158 - val_acc: 0.8813 - lr: 9.6464e-04\n",
      "Epoch 47/500\n",
      "32/32 [==============================] - 0s 5ms/step - loss: 0.5349 - acc: 0.8483 - val_loss: 0.5115 - val_acc: 0.8813 - lr: 9.6368e-04\n",
      "Epoch 48/500\n",
      "32/32 [==============================] - 0s 5ms/step - loss: 0.5305 - acc: 0.8532 - val_loss: 0.5064 - val_acc: 0.8813 - lr: 9.6271e-04\n",
      "Epoch 49/500\n",
      "32/32 [==============================] - 0s 5ms/step - loss: 0.5261 - acc: 0.8532 - val_loss: 0.5015 - val_acc: 0.8858 - lr: 9.6175e-04\n",
      "Epoch 50/500\n",
      "32/32 [==============================] - 0s 5ms/step - loss: 0.5218 - acc: 0.8532 - val_loss: 0.4969 - val_acc: 0.8858 - lr: 9.6079e-04\n",
      "Epoch 51/500\n",
      "32/32 [==============================] - 0s 5ms/step - loss: 0.5172 - acc: 0.8542 - val_loss: 0.4926 - val_acc: 0.8858 - lr: 9.5983e-04\n",
      "Epoch 52/500\n",
      "32/32 [==============================] - 0s 5ms/step - loss: 0.5127 - acc: 0.8542 - val_loss: 0.4873 - val_acc: 0.8858 - lr: 9.5887e-04\n",
      "Epoch 53/500\n",
      "32/32 [==============================] - 0s 5ms/step - loss: 0.5082 - acc: 0.8542 - val_loss: 0.4830 - val_acc: 0.8858 - lr: 9.5791e-04\n",
      "Epoch 54/500\n",
      "32/32 [==============================] - 0s 5ms/step - loss: 0.5038 - acc: 0.8571 - val_loss: 0.4786 - val_acc: 0.8950 - lr: 9.5695e-04\n",
      "Epoch 55/500\n",
      "32/32 [==============================] - 0s 5ms/step - loss: 0.4991 - acc: 0.8601 - val_loss: 0.4730 - val_acc: 0.8904 - lr: 9.5600e-04\n",
      "Epoch 56/500\n",
      "32/32 [==============================] - 0s 5ms/step - loss: 0.4947 - acc: 0.8601 - val_loss: 0.4689 - val_acc: 0.8950 - lr: 9.5504e-04\n",
      "Epoch 57/500\n",
      "32/32 [==============================] - 0s 5ms/step - loss: 0.4903 - acc: 0.8659 - val_loss: 0.4643 - val_acc: 0.8950 - lr: 9.5409e-04\n",
      "Epoch 58/500\n",
      "32/32 [==============================] - 0s 5ms/step - loss: 0.4857 - acc: 0.8640 - val_loss: 0.4581 - val_acc: 0.8950 - lr: 9.5313e-04\n",
      "Epoch 59/500\n",
      "32/32 [==============================] - 0s 5ms/step - loss: 0.4813 - acc: 0.8650 - val_loss: 0.4544 - val_acc: 0.8950 - lr: 9.5218e-04\n",
      "Epoch 60/500\n",
      "32/32 [==============================] - 0s 5ms/step - loss: 0.4770 - acc: 0.8669 - val_loss: 0.4492 - val_acc: 0.8950 - lr: 9.5123e-04\n",
      "Epoch 61/500\n",
      "32/32 [==============================] - 0s 5ms/step - loss: 0.4727 - acc: 0.8699 - val_loss: 0.4451 - val_acc: 0.8950 - lr: 9.5028e-04\n",
      "Epoch 62/500\n",
      "32/32 [==============================] - 0s 7ms/step - loss: 0.4683 - acc: 0.8669 - val_loss: 0.4398 - val_acc: 0.8950 - lr: 9.4933e-04\n",
      "Epoch 63/500\n",
      "32/32 [==============================] - 0s 5ms/step - loss: 0.4640 - acc: 0.8679 - val_loss: 0.4359 - val_acc: 0.8858 - lr: 9.4838e-04\n",
      "Epoch 64/500\n",
      "32/32 [==============================] - 0s 5ms/step - loss: 0.4600 - acc: 0.8699 - val_loss: 0.4321 - val_acc: 0.8858 - lr: 9.4743e-04\n",
      "Epoch 65/500\n",
      "32/32 [==============================] - 0s 5ms/step - loss: 0.4555 - acc: 0.8728 - val_loss: 0.4281 - val_acc: 0.8813 - lr: 9.4649e-04\n",
      "Epoch 66/500\n",
      "32/32 [==============================] - 0s 5ms/step - loss: 0.4516 - acc: 0.8679 - val_loss: 0.4232 - val_acc: 0.8813 - lr: 9.4554e-04\n",
      "Epoch 67/500\n",
      "32/32 [==============================] - 0s 5ms/step - loss: 0.4478 - acc: 0.8728 - val_loss: 0.4191 - val_acc: 0.8813 - lr: 9.4459e-04\n",
      "Epoch 68/500\n",
      "32/32 [==============================] - 0s 5ms/step - loss: 0.4435 - acc: 0.8699 - val_loss: 0.4139 - val_acc: 0.8813 - lr: 9.4365e-04\n",
      "Epoch 69/500\n",
      "32/32 [==============================] - 0s 5ms/step - loss: 0.4396 - acc: 0.8728 - val_loss: 0.4099 - val_acc: 0.8813 - lr: 9.4271e-04\n",
      "Epoch 70/500\n",
      "32/32 [==============================] - 0s 5ms/step - loss: 0.4356 - acc: 0.8728 - val_loss: 0.4062 - val_acc: 0.8858 - lr: 9.4176e-04\n",
      "Epoch 71/500\n",
      "32/32 [==============================] - 0s 5ms/step - loss: 0.4320 - acc: 0.8718 - val_loss: 0.4019 - val_acc: 0.8813 - lr: 9.4082e-04\n",
      "Epoch 72/500\n",
      "32/32 [==============================] - 0s 5ms/step - loss: 0.4282 - acc: 0.8748 - val_loss: 0.3979 - val_acc: 0.8858 - lr: 9.3988e-04\n",
      "Epoch 73/500\n",
      "32/32 [==============================] - 0s 5ms/step - loss: 0.4248 - acc: 0.8728 - val_loss: 0.3938 - val_acc: 0.8858 - lr: 9.3894e-04\n",
      "Epoch 74/500\n",
      "32/32 [==============================] - 0s 5ms/step - loss: 0.4211 - acc: 0.8767 - val_loss: 0.3910 - val_acc: 0.8813 - lr: 9.3801e-04\n",
      "Epoch 75/500\n",
      "32/32 [==============================] - 0s 5ms/step - loss: 0.4177 - acc: 0.8757 - val_loss: 0.3867 - val_acc: 0.8813 - lr: 9.3707e-04\n",
      "Epoch 76/500\n",
      "32/32 [==============================] - 0s 5ms/step - loss: 0.4142 - acc: 0.8757 - val_loss: 0.3827 - val_acc: 0.8813 - lr: 9.3613e-04\n",
      "Epoch 77/500\n",
      "32/32 [==============================] - 0s 5ms/step - loss: 0.4112 - acc: 0.8767 - val_loss: 0.3801 - val_acc: 0.8767 - lr: 9.3520e-04\n",
      "Epoch 78/500\n",
      "32/32 [==============================] - 0s 5ms/step - loss: 0.4080 - acc: 0.8777 - val_loss: 0.3763 - val_acc: 0.8813 - lr: 9.3426e-04\n",
      "Epoch 79/500\n",
      "32/32 [==============================] - 0s 5ms/step - loss: 0.4048 - acc: 0.8767 - val_loss: 0.3731 - val_acc: 0.8721 - lr: 9.3333e-04\n"
     ]
    }
   ],
   "source": [
    "#Always run the following two line together\n",
    "model = nnetwork(32,32) \n",
    "model,model_hist = train(model,X_train,y_train,X_val,y_val,num_epochs = 500,batch_size = 32,lr_initial = 0.001,momentum = 0.8,patience_value = 25)"
   ]
  },
  {
   "cell_type": "code",
   "execution_count": 58,
   "metadata": {},
   "outputs": [
    {
     "name": "stdout",
     "output_type": "stream",
     "text": [
      "7/7 [==============================] - 0s 3ms/step - loss: 0.4213 - acc: 0.8539\n"
     ]
    },
    {
     "data": {
      "text/plain": [
       "0.853881299495697"
      ]
     },
     "execution_count": 58,
     "metadata": {},
     "output_type": "execute_result"
    }
   ],
   "source": [
    "model.evaluate(X_test, y_test)[1]"
   ]
  },
  {
   "cell_type": "code",
   "execution_count": 59,
   "metadata": {},
   "outputs": [
    {
     "data": {
      "image/png": "[encoded data removed]",
      "text/plain": [
       "<Figure size 432x288 with 1 Axes>"
      ]
     },
     "metadata": {
      "needs_background": "light"
     },
     "output_type": "display_data"
    }
   ],
   "source": [
    "plt.plot(model_hist.history['loss'])\n",
    "plt.plot(model_hist.history['val_loss'])\n",
    "plt.title('Model loss')\n",
    "plt.ylabel('Loss')\n",
    "plt.xlabel('Epoch')\n",
    "plt.legend(['Train', 'Val'], loc='upper right')\n",
    "plt.show()"
   ]
  },
  {
   "cell_type": "code",
   "execution_count": 60,
   "metadata": {},
   "outputs": [
    {
     "data": {
      "image/png": "[encoded data removed]",
      "text/plain": [
       "<Figure size 432x288 with 1 Axes>"
      ]
     },
     "metadata": {
      "needs_background": "light"
     },
     "output_type": "display_data"
    }
   ],
   "source": [
    "plt.plot(model_hist.history['acc'])\n",
    "plt.plot(model_hist.history['val_acc'])\n",
    "plt.title('Model accuracy')\n",
    "plt.ylabel('Accuracy')\n",
    "plt.xlabel('Epoch')\n",
    "plt.legend(['Train', 'Val'], loc='lower right')\n",
    "plt.show()"
   ]
  },
  {
   "cell_type": "code",
   "execution_count": null,
   "metadata": {},
   "outputs": [],
   "source": []
  }
 ],
 "metadata": {
  "kernelspec": {
   "display_name": "Python 3.9.12 ('base')",
   "language": "python",
   "name": "python3"
  },
  "language_info": {
   "codemirror_mode": {
    "name": "ipython",
    "version": 3
   },
   "file_extension": ".py",
   "mimetype": "text/x-python",
   "name": "python",
   "nbconvert_exporter": "python",
   "pygments_lexer": "ipython3",
   "version": "3.9.12"
  },
  "orig_nbformat": 4,
  "vscode": {
   "interpreter": {
    "hash": "53940a835fe5505b656473a6d2102fa4e9f27cccda6f2488060ede293b4e0feb"
   }
  }
 },
 "nbformat": 4,
 "nbformat_minor": 2
}
